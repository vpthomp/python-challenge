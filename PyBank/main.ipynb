{
 "cells": [
  {
   "cell_type": "code",
   "execution_count": 145,
   "metadata": {},
   "outputs": [],
   "source": [
    "import pandas as pd\n",
    "import numpy as np"
   ]
  },
  {
   "cell_type": "code",
   "execution_count": 146,
   "metadata": {},
   "outputs": [],
   "source": [
    "#In this challenge, you are tasked with creating a Python script for analyzing the financial records of your company. \n",
    "#You will give a set of financial data called [budget_data.csv]"
   ]
  },
  {
   "cell_type": "code",
   "execution_count": 147,
   "metadata": {},
   "outputs": [],
   "source": [
    "# Set path for file\n",
    "budget = 'budget_data.csv'"
   ]
  },
  {
   "cell_type": "code",
   "execution_count": 148,
   "metadata": {},
   "outputs": [],
   "source": [
    "# Control delimiters, rows, column names with read_csv \n",
    "budget_df = pd.read_csv(budget)"
   ]
  },
  {
   "cell_type": "code",
   "execution_count": 149,
   "metadata": {},
   "outputs": [
    {
     "data": {
      "text/html": [
       "<div>\n",
       "<style scoped>\n",
       "    .dataframe tbody tr th:only-of-type {\n",
       "        vertical-align: middle;\n",
       "    }\n",
       "\n",
       "    .dataframe tbody tr th {\n",
       "        vertical-align: top;\n",
       "    }\n",
       "\n",
       "    .dataframe thead th {\n",
       "        text-align: right;\n",
       "    }\n",
       "</style>\n",
       "<table border=\"1\" class=\"dataframe\">\n",
       "  <thead>\n",
       "    <tr style=\"text-align: right;\">\n",
       "      <th></th>\n",
       "      <th>Date</th>\n",
       "      <th>Profit/Losses</th>\n",
       "    </tr>\n",
       "  </thead>\n",
       "  <tbody>\n",
       "    <tr>\n",
       "      <th>0</th>\n",
       "      <td>Jan-2010</td>\n",
       "      <td>867884</td>\n",
       "    </tr>\n",
       "    <tr>\n",
       "      <th>1</th>\n",
       "      <td>Feb-2010</td>\n",
       "      <td>984655</td>\n",
       "    </tr>\n",
       "    <tr>\n",
       "      <th>2</th>\n",
       "      <td>Mar-2010</td>\n",
       "      <td>322013</td>\n",
       "    </tr>\n",
       "    <tr>\n",
       "      <th>3</th>\n",
       "      <td>Apr-2010</td>\n",
       "      <td>-69417</td>\n",
       "    </tr>\n",
       "    <tr>\n",
       "      <th>4</th>\n",
       "      <td>May-2010</td>\n",
       "      <td>310503</td>\n",
       "    </tr>\n",
       "  </tbody>\n",
       "</table>\n",
       "</div>"
      ],
      "text/plain": [
       "       Date  Profit/Losses\n",
       "0  Jan-2010         867884\n",
       "1  Feb-2010         984655\n",
       "2  Mar-2010         322013\n",
       "3  Apr-2010         -69417\n",
       "4  May-2010         310503"
      ]
     },
     "execution_count": 149,
     "metadata": {},
     "output_type": "execute_result"
    }
   ],
   "source": [
    "budget_df.head()"
   ]
  },
  {
   "cell_type": "code",
   "execution_count": 150,
   "metadata": {},
   "outputs": [
    {
     "data": {
      "text/html": [
       "<div>\n",
       "<style scoped>\n",
       "    .dataframe tbody tr th:only-of-type {\n",
       "        vertical-align: middle;\n",
       "    }\n",
       "\n",
       "    .dataframe tbody tr th {\n",
       "        vertical-align: top;\n",
       "    }\n",
       "\n",
       "    .dataframe thead th {\n",
       "        text-align: right;\n",
       "    }\n",
       "</style>\n",
       "<table border=\"1\" class=\"dataframe\">\n",
       "  <thead>\n",
       "    <tr style=\"text-align: right;\">\n",
       "      <th></th>\n",
       "      <th>Date</th>\n",
       "      <th>Profit/Losses</th>\n",
       "      <th>pl_diff</th>\n",
       "    </tr>\n",
       "  </thead>\n",
       "  <tbody>\n",
       "    <tr>\n",
       "      <th>0</th>\n",
       "      <td>Jan-2010</td>\n",
       "      <td>867884</td>\n",
       "      <td>NaN</td>\n",
       "    </tr>\n",
       "    <tr>\n",
       "      <th>1</th>\n",
       "      <td>Feb-2010</td>\n",
       "      <td>984655</td>\n",
       "      <td>116771.0</td>\n",
       "    </tr>\n",
       "    <tr>\n",
       "      <th>2</th>\n",
       "      <td>Mar-2010</td>\n",
       "      <td>322013</td>\n",
       "      <td>-662642.0</td>\n",
       "    </tr>\n",
       "    <tr>\n",
       "      <th>3</th>\n",
       "      <td>Apr-2010</td>\n",
       "      <td>-69417</td>\n",
       "      <td>-391430.0</td>\n",
       "    </tr>\n",
       "    <tr>\n",
       "      <th>4</th>\n",
       "      <td>May-2010</td>\n",
       "      <td>310503</td>\n",
       "      <td>379920.0</td>\n",
       "    </tr>\n",
       "  </tbody>\n",
       "</table>\n",
       "</div>"
      ],
      "text/plain": [
       "       Date  Profit/Losses   pl_diff\n",
       "0  Jan-2010         867884       NaN\n",
       "1  Feb-2010         984655  116771.0\n",
       "2  Mar-2010         322013 -662642.0\n",
       "3  Apr-2010         -69417 -391430.0\n",
       "4  May-2010         310503  379920.0"
      ]
     },
     "execution_count": 150,
     "metadata": {},
     "output_type": "execute_result"
    }
   ],
   "source": [
    "# To see info about a method do diff() then put cursor after \"()\" then do Shift + Tab\n",
    "budget_df['pl_diff'] = budget_df['Profit/Losses'].diff()\n",
    "budget_df.head()"
   ]
  },
  {
   "cell_type": "code",
   "execution_count": 151,
   "metadata": {},
   "outputs": [],
   "source": [
    "budget_df['pct_change'] = budget_df['Profit/Losses'].pct_change()"
   ]
  },
  {
   "cell_type": "code",
   "execution_count": 152,
   "metadata": {},
   "outputs": [
    {
     "data": {
      "text/html": [
       "<div>\n",
       "<style scoped>\n",
       "    .dataframe tbody tr th:only-of-type {\n",
       "        vertical-align: middle;\n",
       "    }\n",
       "\n",
       "    .dataframe tbody tr th {\n",
       "        vertical-align: top;\n",
       "    }\n",
       "\n",
       "    .dataframe thead th {\n",
       "        text-align: right;\n",
       "    }\n",
       "</style>\n",
       "<table border=\"1\" class=\"dataframe\">\n",
       "  <thead>\n",
       "    <tr style=\"text-align: right;\">\n",
       "      <th></th>\n",
       "      <th>Date</th>\n",
       "      <th>Profit/Losses</th>\n",
       "      <th>pl_diff</th>\n",
       "      <th>pct_change</th>\n",
       "    </tr>\n",
       "  </thead>\n",
       "  <tbody>\n",
       "    <tr>\n",
       "      <th>0</th>\n",
       "      <td>Jan-2010</td>\n",
       "      <td>867884</td>\n",
       "      <td>NaN</td>\n",
       "      <td>NaN</td>\n",
       "    </tr>\n",
       "    <tr>\n",
       "      <th>1</th>\n",
       "      <td>Feb-2010</td>\n",
       "      <td>984655</td>\n",
       "      <td>116771.0</td>\n",
       "      <td>0.134547</td>\n",
       "    </tr>\n",
       "    <tr>\n",
       "      <th>2</th>\n",
       "      <td>Mar-2010</td>\n",
       "      <td>322013</td>\n",
       "      <td>-662642.0</td>\n",
       "      <td>-0.672969</td>\n",
       "    </tr>\n",
       "    <tr>\n",
       "      <th>3</th>\n",
       "      <td>Apr-2010</td>\n",
       "      <td>-69417</td>\n",
       "      <td>-391430.0</td>\n",
       "      <td>-1.215572</td>\n",
       "    </tr>\n",
       "    <tr>\n",
       "      <th>4</th>\n",
       "      <td>May-2010</td>\n",
       "      <td>310503</td>\n",
       "      <td>379920.0</td>\n",
       "      <td>-5.473011</td>\n",
       "    </tr>\n",
       "  </tbody>\n",
       "</table>\n",
       "</div>"
      ],
      "text/plain": [
       "       Date  Profit/Losses   pl_diff  pct_change\n",
       "0  Jan-2010         867884       NaN         NaN\n",
       "1  Feb-2010         984655  116771.0    0.134547\n",
       "2  Mar-2010         322013 -662642.0   -0.672969\n",
       "3  Apr-2010         -69417 -391430.0   -1.215572\n",
       "4  May-2010         310503  379920.0   -5.473011"
      ]
     },
     "execution_count": 152,
     "metadata": {},
     "output_type": "execute_result"
    }
   ],
   "source": [
    "budget_df.head()"
   ]
  },
  {
   "cell_type": "code",
   "execution_count": 153,
   "metadata": {},
   "outputs": [
    {
     "data": {
      "text/plain": [
       "-2315.1176470588234"
      ]
     },
     "execution_count": 153,
     "metadata": {},
     "output_type": "execute_result"
    }
   ],
   "source": [
    "budget_df.pl_diff.mean()"
   ]
  },
  {
   "cell_type": "code",
   "execution_count": 154,
   "metadata": {},
   "outputs": [
    {
     "data": {
      "text/html": [
       "<div>\n",
       "<style scoped>\n",
       "    .dataframe tbody tr th:only-of-type {\n",
       "        vertical-align: middle;\n",
       "    }\n",
       "\n",
       "    .dataframe tbody tr th {\n",
       "        vertical-align: top;\n",
       "    }\n",
       "\n",
       "    .dataframe thead th {\n",
       "        text-align: right;\n",
       "    }\n",
       "</style>\n",
       "<table border=\"1\" class=\"dataframe\">\n",
       "  <thead>\n",
       "    <tr style=\"text-align: right;\">\n",
       "      <th></th>\n",
       "      <th>Date</th>\n",
       "      <th>Profit/Losses</th>\n",
       "      <th>pl_diff</th>\n",
       "      <th>pct_change</th>\n",
       "    </tr>\n",
       "  </thead>\n",
       "  <tbody>\n",
       "    <tr>\n",
       "      <th>0</th>\n",
       "      <td>Jan-2010</td>\n",
       "      <td>867884</td>\n",
       "      <td>NaN</td>\n",
       "      <td>NaN</td>\n",
       "    </tr>\n",
       "    <tr>\n",
       "      <th>1</th>\n",
       "      <td>Feb-2010</td>\n",
       "      <td>984655</td>\n",
       "      <td>116771.0</td>\n",
       "      <td>0.134547</td>\n",
       "    </tr>\n",
       "    <tr>\n",
       "      <th>2</th>\n",
       "      <td>Mar-2010</td>\n",
       "      <td>322013</td>\n",
       "      <td>-662642.0</td>\n",
       "      <td>-0.672969</td>\n",
       "    </tr>\n",
       "    <tr>\n",
       "      <th>3</th>\n",
       "      <td>Apr-2010</td>\n",
       "      <td>-69417</td>\n",
       "      <td>-391430.0</td>\n",
       "      <td>-1.215572</td>\n",
       "    </tr>\n",
       "    <tr>\n",
       "      <th>4</th>\n",
       "      <td>May-2010</td>\n",
       "      <td>310503</td>\n",
       "      <td>379920.0</td>\n",
       "      <td>-5.473011</td>\n",
       "    </tr>\n",
       "  </tbody>\n",
       "</table>\n",
       "</div>"
      ],
      "text/plain": [
       "       Date  Profit/Losses   pl_diff  pct_change\n",
       "0  Jan-2010         867884       NaN         NaN\n",
       "1  Feb-2010         984655  116771.0    0.134547\n",
       "2  Mar-2010         322013 -662642.0   -0.672969\n",
       "3  Apr-2010         -69417 -391430.0   -1.215572\n",
       "4  May-2010         310503  379920.0   -5.473011"
      ]
     },
     "execution_count": 154,
     "metadata": {},
     "output_type": "execute_result"
    }
   ],
   "source": [
    "budget_df.head()"
   ]
  },
  {
   "cell_type": "code",
   "execution_count": 155,
   "metadata": {},
   "outputs": [
    {
     "data": {
      "text/plain": [
       "86"
      ]
     },
     "execution_count": 155,
     "metadata": {},
     "output_type": "execute_result"
    }
   ],
   "source": [
    "#The total number of months included in the dataset\n",
    "budget_df[\"Date\"].count()"
   ]
  },
  {
   "cell_type": "code",
   "execution_count": 156,
   "metadata": {},
   "outputs": [
    {
     "data": {
      "text/html": [
       "<div>\n",
       "<style scoped>\n",
       "    .dataframe tbody tr th:only-of-type {\n",
       "        vertical-align: middle;\n",
       "    }\n",
       "\n",
       "    .dataframe tbody tr th {\n",
       "        vertical-align: top;\n",
       "    }\n",
       "\n",
       "    .dataframe thead th {\n",
       "        text-align: right;\n",
       "    }\n",
       "</style>\n",
       "<table border=\"1\" class=\"dataframe\">\n",
       "  <thead>\n",
       "    <tr style=\"text-align: right;\">\n",
       "      <th></th>\n",
       "      <th>Date</th>\n",
       "      <th>Profit/Losses</th>\n",
       "      <th>pl_diff</th>\n",
       "      <th>pct_change</th>\n",
       "    </tr>\n",
       "  </thead>\n",
       "  <tbody>\n",
       "    <tr>\n",
       "      <th>81</th>\n",
       "      <td>Oct-2016</td>\n",
       "      <td>102685</td>\n",
       "      <td>-665765.0</td>\n",
       "      <td>-0.866374</td>\n",
       "    </tr>\n",
       "    <tr>\n",
       "      <th>82</th>\n",
       "      <td>Nov-2016</td>\n",
       "      <td>795914</td>\n",
       "      <td>693229.0</td>\n",
       "      <td>6.751025</td>\n",
       "    </tr>\n",
       "    <tr>\n",
       "      <th>83</th>\n",
       "      <td>Dec-2016</td>\n",
       "      <td>60988</td>\n",
       "      <td>-734926.0</td>\n",
       "      <td>-0.923374</td>\n",
       "    </tr>\n",
       "    <tr>\n",
       "      <th>84</th>\n",
       "      <td>Jan-2017</td>\n",
       "      <td>138230</td>\n",
       "      <td>77242.0</td>\n",
       "      <td>1.266511</td>\n",
       "    </tr>\n",
       "    <tr>\n",
       "      <th>85</th>\n",
       "      <td>Feb-2017</td>\n",
       "      <td>671099</td>\n",
       "      <td>532869.0</td>\n",
       "      <td>3.854945</td>\n",
       "    </tr>\n",
       "  </tbody>\n",
       "</table>\n",
       "</div>"
      ],
      "text/plain": [
       "        Date  Profit/Losses   pl_diff  pct_change\n",
       "81  Oct-2016         102685 -665765.0   -0.866374\n",
       "82  Nov-2016         795914  693229.0    6.751025\n",
       "83  Dec-2016          60988 -734926.0   -0.923374\n",
       "84  Jan-2017         138230   77242.0    1.266511\n",
       "85  Feb-2017         671099  532869.0    3.854945"
      ]
     },
     "execution_count": 156,
     "metadata": {},
     "output_type": "execute_result"
    }
   ],
   "source": [
    "#verify count -1, because index starts at 0\n",
    "budget_df.tail()"
   ]
  },
  {
   "cell_type": "code",
   "execution_count": 157,
   "metadata": {},
   "outputs": [
    {
     "data": {
      "text/plain": [
       "38382578"
      ]
     },
     "execution_count": 157,
     "metadata": {},
     "output_type": "execute_result"
    }
   ],
   "source": [
    "#The net total amount of \"Profit/Losses\" over the entire period\n",
    "budget_df[\"Profit/Losses\"].sum()"
   ]
  },
  {
   "cell_type": "code",
   "execution_count": 158,
   "metadata": {},
   "outputs": [
    {
     "data": {
      "text/plain": [
       "446309.0465116279"
      ]
     },
     "execution_count": 158,
     "metadata": {},
     "output_type": "execute_result"
    }
   ],
   "source": [
    "#The average of the changes in \"Profit/Losses\" over the entire period\n",
    "budget_df[\"Profit/Losses\"].mean()"
   ]
  },
  {
   "cell_type": "code",
   "execution_count": 159,
   "metadata": {},
   "outputs": [
    {
     "data": {
      "text/plain": [
       "count    8.600000e+01\n",
       "mean     4.463090e+05\n",
       "std      5.363579e+05\n",
       "min     -1.196225e+06\n",
       "25%      1.821620e+05\n",
       "50%      5.703280e+05\n",
       "75%      7.952262e+05\n",
       "max      1.170593e+06\n",
       "Name: Profit/Losses, dtype: float64"
      ]
     },
     "execution_count": 159,
     "metadata": {},
     "output_type": "execute_result"
    }
   ],
   "source": [
    "#The greatest increase in profits (date and amount) over the entire period\n",
    "budget_df[\"Profit/Losses\"].describe()"
   ]
  },
  {
   "cell_type": "code",
   "execution_count": 160,
   "metadata": {},
   "outputs": [
    {
     "data": {
      "text/plain": [
       "count           86\n",
       "unique          86\n",
       "top       Aug-2014\n",
       "freq             1\n",
       "Name: Date, dtype: object"
      ]
     },
     "execution_count": 160,
     "metadata": {},
     "output_type": "execute_result"
    }
   ],
   "source": [
    "budget_df[\"Date\"].describe()"
   ]
  },
  {
   "cell_type": "code",
   "execution_count": 161,
   "metadata": {},
   "outputs": [
    {
     "data": {
      "text/plain": [
       "<bound method NDFrame.describe of         Date  Profit/Losses    pl_diff  pct_change\n",
       "0   Jan-2010         867884        NaN         NaN\n",
       "1   Feb-2010         984655   116771.0    0.134547\n",
       "2   Mar-2010         322013  -662642.0   -0.672969\n",
       "3   Apr-2010         -69417  -391430.0   -1.215572\n",
       "4   May-2010         310503   379920.0   -5.473011\n",
       "5   Jun-2010         522857   212354.0    0.683903\n",
       "6   Jul-2010        1033096   510239.0    0.975867\n",
       "7   Aug-2010         604885  -428211.0   -0.414493\n",
       "8   Sep-2010        -216386  -821271.0   -1.357731\n",
       "9   Oct-2010         477532   693918.0   -3.206853\n",
       "10  Nov-2010         893810   416278.0    0.871728\n",
       "11  Dec-2010         -80353  -974163.0   -1.089899\n",
       "12  Jan-2011         779806   860159.0  -10.704753\n",
       "13  Feb-2011        -335203 -1115009.0   -1.429854\n",
       "14  Mar-2011         697845  1033048.0   -3.081858\n",
       "15  Apr-2011         793163    95318.0    0.136589\n",
       "16  May-2011         485070  -308093.0   -0.388436\n",
       "17  Jun-2011         584122    99052.0    0.204201\n",
       "18  Jul-2011          62729  -521393.0   -0.892610\n",
       "19  Aug-2011         668179   605450.0    9.651836\n",
       "20  Sep-2011         899906   231727.0    0.346804\n",
       "21  Oct-2011         834719   -65187.0   -0.072438\n",
       "22  Nov-2011         132003  -702716.0   -0.841859\n",
       "23  Dec-2011         309978   177975.0    1.348265\n",
       "24  Jan-2012        -755566 -1065544.0   -3.437483\n",
       "25  Feb-2012        1170593  1926159.0   -2.549293\n",
       "26  Mar-2012         252788  -917805.0   -0.784051\n",
       "27  Apr-2012        1151518   898730.0    3.555272\n",
       "28  May-2012         817256  -334262.0   -0.290279\n",
       "29  Jun-2012         570757  -246499.0   -0.301618\n",
       "..       ...            ...        ...         ...\n",
       "56  Sep-2014        1166643   365942.0    0.457027\n",
       "57  Oct-2014         947333  -219310.0   -0.187984\n",
       "58  Nov-2014         578668  -368665.0   -0.389161\n",
       "59  Dec-2014         988505   409837.0    0.708242\n",
       "60  Jan-2015        1139715   151210.0    0.152968\n",
       "61  Feb-2015        1029471  -110244.0   -0.096729\n",
       "62  Mar-2015         687533  -341938.0   -0.332149\n",
       "63  Apr-2015        -524626 -1212159.0   -1.763056\n",
       "64  May-2015         158620   683246.0   -1.302349\n",
       "65  Jun-2015          87795   -70825.0   -0.446507\n",
       "66  Jul-2015         423389   335594.0    3.822473\n",
       "67  Aug-2015         840723   417334.0    0.985699\n",
       "68  Sep-2015         568529  -272194.0   -0.323762\n",
       "69  Oct-2015         332067  -236462.0   -0.415919\n",
       "70  Nov-2015         989499   657432.0    1.979817\n",
       "71  Dec-2015         778237  -211262.0   -0.213504\n",
       "72  Jan-2016         650000  -128237.0   -0.164779\n",
       "73  Feb-2016       -1100387 -1750387.0   -2.692903\n",
       "74  Mar-2016        -174946   925441.0   -0.841014\n",
       "75  Apr-2016         757143   932089.0   -5.327867\n",
       "76  May-2016         445709  -311434.0   -0.411328\n",
       "77  Jun-2016         712961   267252.0    0.599611\n",
       "78  Jul-2016       -1163797 -1876758.0   -2.632343\n",
       "79  Aug-2016         569899  1733696.0   -1.489689\n",
       "80  Sep-2016         768450   198551.0    0.348397\n",
       "81  Oct-2016         102685  -665765.0   -0.866374\n",
       "82  Nov-2016         795914   693229.0    6.751025\n",
       "83  Dec-2016          60988  -734926.0   -0.923374\n",
       "84  Jan-2017         138230    77242.0    1.266511\n",
       "85  Feb-2017         671099   532869.0    3.854945\n",
       "\n",
       "[86 rows x 4 columns]>"
      ]
     },
     "execution_count": 161,
     "metadata": {},
     "output_type": "execute_result"
    }
   ],
   "source": [
    "#Verify the greatest increase in profits (date and amount) over the entire period\n",
    "budget_df.describe"
   ]
  },
  {
   "cell_type": "code",
   "execution_count": 162,
   "metadata": {},
   "outputs": [
    {
     "data": {
      "text/plain": [
       "Date                Sep-2016\n",
       "Profit/Losses        1170593\n",
       "pl_diff          1.92616e+06\n",
       "pct_change           9.65184\n",
       "dtype: object"
      ]
     },
     "execution_count": 162,
     "metadata": {},
     "output_type": "execute_result"
    }
   ],
   "source": [
    "budget_df.max()"
   ]
  },
  {
   "cell_type": "code",
   "execution_count": 163,
   "metadata": {},
   "outputs": [
    {
     "data": {
      "text/plain": [
       "Date                Apr-2010\n",
       "Profit/Losses       -1196225\n",
       "pl_diff         -2.19617e+06\n",
       "pct_change          -10.7048\n",
       "dtype: object"
      ]
     },
     "execution_count": 163,
     "metadata": {},
     "output_type": "execute_result"
    }
   ],
   "source": [
    "budget_df.min()"
   ]
  },
  {
   "cell_type": "code",
   "execution_count": 164,
   "metadata": {},
   "outputs": [
    {
     "data": {
      "text/plain": [
       "Profit/Losses    2.843347e+11\n",
       "pl_diff          5.759794e+11\n",
       "pct_change       6.124720e+00\n",
       "dtype: float64"
      ]
     },
     "execution_count": 164,
     "metadata": {},
     "output_type": "execute_result"
    }
   ],
   "source": [
    "np.var(budget_df)"
   ]
  },
  {
   "cell_type": "code",
   "execution_count": 165,
   "metadata": {},
   "outputs": [
    {
     "data": {
      "text/html": [
       "<div>\n",
       "<style scoped>\n",
       "    .dataframe tbody tr th:only-of-type {\n",
       "        vertical-align: middle;\n",
       "    }\n",
       "\n",
       "    .dataframe tbody tr th {\n",
       "        vertical-align: top;\n",
       "    }\n",
       "\n",
       "    .dataframe thead th {\n",
       "        text-align: right;\n",
       "    }\n",
       "</style>\n",
       "<table border=\"1\" class=\"dataframe\">\n",
       "  <thead>\n",
       "    <tr style=\"text-align: right;\">\n",
       "      <th></th>\n",
       "      <th>Date</th>\n",
       "      <th>Profit/Losses</th>\n",
       "      <th>pl_diff</th>\n",
       "      <th>pct_change</th>\n",
       "    </tr>\n",
       "  </thead>\n",
       "  <tbody>\n",
       "    <tr>\n",
       "      <th>0</th>\n",
       "      <td>Jan-2010</td>\n",
       "      <td>867884</td>\n",
       "      <td>NaN</td>\n",
       "      <td>NaN</td>\n",
       "    </tr>\n",
       "    <tr>\n",
       "      <th>1</th>\n",
       "      <td>Feb-2010</td>\n",
       "      <td>984655</td>\n",
       "      <td>116771.0</td>\n",
       "      <td>0.134547</td>\n",
       "    </tr>\n",
       "    <tr>\n",
       "      <th>2</th>\n",
       "      <td>Mar-2010</td>\n",
       "      <td>322013</td>\n",
       "      <td>-662642.0</td>\n",
       "      <td>-0.672969</td>\n",
       "    </tr>\n",
       "    <tr>\n",
       "      <th>3</th>\n",
       "      <td>Apr-2010</td>\n",
       "      <td>-69417</td>\n",
       "      <td>-391430.0</td>\n",
       "      <td>-1.215572</td>\n",
       "    </tr>\n",
       "    <tr>\n",
       "      <th>4</th>\n",
       "      <td>May-2010</td>\n",
       "      <td>310503</td>\n",
       "      <td>379920.0</td>\n",
       "      <td>-5.473011</td>\n",
       "    </tr>\n",
       "    <tr>\n",
       "      <th>5</th>\n",
       "      <td>Jun-2010</td>\n",
       "      <td>522857</td>\n",
       "      <td>212354.0</td>\n",
       "      <td>0.683903</td>\n",
       "    </tr>\n",
       "    <tr>\n",
       "      <th>6</th>\n",
       "      <td>Jul-2010</td>\n",
       "      <td>1033096</td>\n",
       "      <td>510239.0</td>\n",
       "      <td>0.975867</td>\n",
       "    </tr>\n",
       "    <tr>\n",
       "      <th>7</th>\n",
       "      <td>Aug-2010</td>\n",
       "      <td>604885</td>\n",
       "      <td>-428211.0</td>\n",
       "      <td>-0.414493</td>\n",
       "    </tr>\n",
       "    <tr>\n",
       "      <th>8</th>\n",
       "      <td>Sep-2010</td>\n",
       "      <td>-216386</td>\n",
       "      <td>-821271.0</td>\n",
       "      <td>-1.357731</td>\n",
       "    </tr>\n",
       "    <tr>\n",
       "      <th>9</th>\n",
       "      <td>Oct-2010</td>\n",
       "      <td>477532</td>\n",
       "      <td>693918.0</td>\n",
       "      <td>-3.206853</td>\n",
       "    </tr>\n",
       "    <tr>\n",
       "      <th>10</th>\n",
       "      <td>Nov-2010</td>\n",
       "      <td>893810</td>\n",
       "      <td>416278.0</td>\n",
       "      <td>0.871728</td>\n",
       "    </tr>\n",
       "    <tr>\n",
       "      <th>11</th>\n",
       "      <td>Dec-2010</td>\n",
       "      <td>-80353</td>\n",
       "      <td>-974163.0</td>\n",
       "      <td>-1.089899</td>\n",
       "    </tr>\n",
       "    <tr>\n",
       "      <th>12</th>\n",
       "      <td>Jan-2011</td>\n",
       "      <td>779806</td>\n",
       "      <td>860159.0</td>\n",
       "      <td>-10.704753</td>\n",
       "    </tr>\n",
       "    <tr>\n",
       "      <th>13</th>\n",
       "      <td>Feb-2011</td>\n",
       "      <td>-335203</td>\n",
       "      <td>-1115009.0</td>\n",
       "      <td>-1.429854</td>\n",
       "    </tr>\n",
       "    <tr>\n",
       "      <th>14</th>\n",
       "      <td>Mar-2011</td>\n",
       "      <td>697845</td>\n",
       "      <td>1033048.0</td>\n",
       "      <td>-3.081858</td>\n",
       "    </tr>\n",
       "    <tr>\n",
       "      <th>15</th>\n",
       "      <td>Apr-2011</td>\n",
       "      <td>793163</td>\n",
       "      <td>95318.0</td>\n",
       "      <td>0.136589</td>\n",
       "    </tr>\n",
       "    <tr>\n",
       "      <th>16</th>\n",
       "      <td>May-2011</td>\n",
       "      <td>485070</td>\n",
       "      <td>-308093.0</td>\n",
       "      <td>-0.388436</td>\n",
       "    </tr>\n",
       "    <tr>\n",
       "      <th>17</th>\n",
       "      <td>Jun-2011</td>\n",
       "      <td>584122</td>\n",
       "      <td>99052.0</td>\n",
       "      <td>0.204201</td>\n",
       "    </tr>\n",
       "    <tr>\n",
       "      <th>18</th>\n",
       "      <td>Jul-2011</td>\n",
       "      <td>62729</td>\n",
       "      <td>-521393.0</td>\n",
       "      <td>-0.892610</td>\n",
       "    </tr>\n",
       "    <tr>\n",
       "      <th>19</th>\n",
       "      <td>Aug-2011</td>\n",
       "      <td>668179</td>\n",
       "      <td>605450.0</td>\n",
       "      <td>9.651836</td>\n",
       "    </tr>\n",
       "    <tr>\n",
       "      <th>20</th>\n",
       "      <td>Sep-2011</td>\n",
       "      <td>899906</td>\n",
       "      <td>231727.0</td>\n",
       "      <td>0.346804</td>\n",
       "    </tr>\n",
       "    <tr>\n",
       "      <th>21</th>\n",
       "      <td>Oct-2011</td>\n",
       "      <td>834719</td>\n",
       "      <td>-65187.0</td>\n",
       "      <td>-0.072438</td>\n",
       "    </tr>\n",
       "    <tr>\n",
       "      <th>22</th>\n",
       "      <td>Nov-2011</td>\n",
       "      <td>132003</td>\n",
       "      <td>-702716.0</td>\n",
       "      <td>-0.841859</td>\n",
       "    </tr>\n",
       "    <tr>\n",
       "      <th>23</th>\n",
       "      <td>Dec-2011</td>\n",
       "      <td>309978</td>\n",
       "      <td>177975.0</td>\n",
       "      <td>1.348265</td>\n",
       "    </tr>\n",
       "    <tr>\n",
       "      <th>24</th>\n",
       "      <td>Jan-2012</td>\n",
       "      <td>-755566</td>\n",
       "      <td>-1065544.0</td>\n",
       "      <td>-3.437483</td>\n",
       "    </tr>\n",
       "    <tr>\n",
       "      <th>25</th>\n",
       "      <td>Feb-2012</td>\n",
       "      <td>1170593</td>\n",
       "      <td>1926159.0</td>\n",
       "      <td>-2.549293</td>\n",
       "    </tr>\n",
       "    <tr>\n",
       "      <th>26</th>\n",
       "      <td>Mar-2012</td>\n",
       "      <td>252788</td>\n",
       "      <td>-917805.0</td>\n",
       "      <td>-0.784051</td>\n",
       "    </tr>\n",
       "    <tr>\n",
       "      <th>27</th>\n",
       "      <td>Apr-2012</td>\n",
       "      <td>1151518</td>\n",
       "      <td>898730.0</td>\n",
       "      <td>3.555272</td>\n",
       "    </tr>\n",
       "    <tr>\n",
       "      <th>28</th>\n",
       "      <td>May-2012</td>\n",
       "      <td>817256</td>\n",
       "      <td>-334262.0</td>\n",
       "      <td>-0.290279</td>\n",
       "    </tr>\n",
       "    <tr>\n",
       "      <th>29</th>\n",
       "      <td>Jun-2012</td>\n",
       "      <td>570757</td>\n",
       "      <td>-246499.0</td>\n",
       "      <td>-0.301618</td>\n",
       "    </tr>\n",
       "    <tr>\n",
       "      <th>...</th>\n",
       "      <td>...</td>\n",
       "      <td>...</td>\n",
       "      <td>...</td>\n",
       "      <td>...</td>\n",
       "    </tr>\n",
       "    <tr>\n",
       "      <th>56</th>\n",
       "      <td>Sep-2014</td>\n",
       "      <td>1166643</td>\n",
       "      <td>365942.0</td>\n",
       "      <td>0.457027</td>\n",
       "    </tr>\n",
       "    <tr>\n",
       "      <th>57</th>\n",
       "      <td>Oct-2014</td>\n",
       "      <td>947333</td>\n",
       "      <td>-219310.0</td>\n",
       "      <td>-0.187984</td>\n",
       "    </tr>\n",
       "    <tr>\n",
       "      <th>58</th>\n",
       "      <td>Nov-2014</td>\n",
       "      <td>578668</td>\n",
       "      <td>-368665.0</td>\n",
       "      <td>-0.389161</td>\n",
       "    </tr>\n",
       "    <tr>\n",
       "      <th>59</th>\n",
       "      <td>Dec-2014</td>\n",
       "      <td>988505</td>\n",
       "      <td>409837.0</td>\n",
       "      <td>0.708242</td>\n",
       "    </tr>\n",
       "    <tr>\n",
       "      <th>60</th>\n",
       "      <td>Jan-2015</td>\n",
       "      <td>1139715</td>\n",
       "      <td>151210.0</td>\n",
       "      <td>0.152968</td>\n",
       "    </tr>\n",
       "    <tr>\n",
       "      <th>61</th>\n",
       "      <td>Feb-2015</td>\n",
       "      <td>1029471</td>\n",
       "      <td>-110244.0</td>\n",
       "      <td>-0.096729</td>\n",
       "    </tr>\n",
       "    <tr>\n",
       "      <th>62</th>\n",
       "      <td>Mar-2015</td>\n",
       "      <td>687533</td>\n",
       "      <td>-341938.0</td>\n",
       "      <td>-0.332149</td>\n",
       "    </tr>\n",
       "    <tr>\n",
       "      <th>63</th>\n",
       "      <td>Apr-2015</td>\n",
       "      <td>-524626</td>\n",
       "      <td>-1212159.0</td>\n",
       "      <td>-1.763056</td>\n",
       "    </tr>\n",
       "    <tr>\n",
       "      <th>64</th>\n",
       "      <td>May-2015</td>\n",
       "      <td>158620</td>\n",
       "      <td>683246.0</td>\n",
       "      <td>-1.302349</td>\n",
       "    </tr>\n",
       "    <tr>\n",
       "      <th>65</th>\n",
       "      <td>Jun-2015</td>\n",
       "      <td>87795</td>\n",
       "      <td>-70825.0</td>\n",
       "      <td>-0.446507</td>\n",
       "    </tr>\n",
       "    <tr>\n",
       "      <th>66</th>\n",
       "      <td>Jul-2015</td>\n",
       "      <td>423389</td>\n",
       "      <td>335594.0</td>\n",
       "      <td>3.822473</td>\n",
       "    </tr>\n",
       "    <tr>\n",
       "      <th>67</th>\n",
       "      <td>Aug-2015</td>\n",
       "      <td>840723</td>\n",
       "      <td>417334.0</td>\n",
       "      <td>0.985699</td>\n",
       "    </tr>\n",
       "    <tr>\n",
       "      <th>68</th>\n",
       "      <td>Sep-2015</td>\n",
       "      <td>568529</td>\n",
       "      <td>-272194.0</td>\n",
       "      <td>-0.323762</td>\n",
       "    </tr>\n",
       "    <tr>\n",
       "      <th>69</th>\n",
       "      <td>Oct-2015</td>\n",
       "      <td>332067</td>\n",
       "      <td>-236462.0</td>\n",
       "      <td>-0.415919</td>\n",
       "    </tr>\n",
       "    <tr>\n",
       "      <th>70</th>\n",
       "      <td>Nov-2015</td>\n",
       "      <td>989499</td>\n",
       "      <td>657432.0</td>\n",
       "      <td>1.979817</td>\n",
       "    </tr>\n",
       "    <tr>\n",
       "      <th>71</th>\n",
       "      <td>Dec-2015</td>\n",
       "      <td>778237</td>\n",
       "      <td>-211262.0</td>\n",
       "      <td>-0.213504</td>\n",
       "    </tr>\n",
       "    <tr>\n",
       "      <th>72</th>\n",
       "      <td>Jan-2016</td>\n",
       "      <td>650000</td>\n",
       "      <td>-128237.0</td>\n",
       "      <td>-0.164779</td>\n",
       "    </tr>\n",
       "    <tr>\n",
       "      <th>73</th>\n",
       "      <td>Feb-2016</td>\n",
       "      <td>-1100387</td>\n",
       "      <td>-1750387.0</td>\n",
       "      <td>-2.692903</td>\n",
       "    </tr>\n",
       "    <tr>\n",
       "      <th>74</th>\n",
       "      <td>Mar-2016</td>\n",
       "      <td>-174946</td>\n",
       "      <td>925441.0</td>\n",
       "      <td>-0.841014</td>\n",
       "    </tr>\n",
       "    <tr>\n",
       "      <th>75</th>\n",
       "      <td>Apr-2016</td>\n",
       "      <td>757143</td>\n",
       "      <td>932089.0</td>\n",
       "      <td>-5.327867</td>\n",
       "    </tr>\n",
       "    <tr>\n",
       "      <th>76</th>\n",
       "      <td>May-2016</td>\n",
       "      <td>445709</td>\n",
       "      <td>-311434.0</td>\n",
       "      <td>-0.411328</td>\n",
       "    </tr>\n",
       "    <tr>\n",
       "      <th>77</th>\n",
       "      <td>Jun-2016</td>\n",
       "      <td>712961</td>\n",
       "      <td>267252.0</td>\n",
       "      <td>0.599611</td>\n",
       "    </tr>\n",
       "    <tr>\n",
       "      <th>78</th>\n",
       "      <td>Jul-2016</td>\n",
       "      <td>-1163797</td>\n",
       "      <td>-1876758.0</td>\n",
       "      <td>-2.632343</td>\n",
       "    </tr>\n",
       "    <tr>\n",
       "      <th>79</th>\n",
       "      <td>Aug-2016</td>\n",
       "      <td>569899</td>\n",
       "      <td>1733696.0</td>\n",
       "      <td>-1.489689</td>\n",
       "    </tr>\n",
       "    <tr>\n",
       "      <th>80</th>\n",
       "      <td>Sep-2016</td>\n",
       "      <td>768450</td>\n",
       "      <td>198551.0</td>\n",
       "      <td>0.348397</td>\n",
       "    </tr>\n",
       "    <tr>\n",
       "      <th>81</th>\n",
       "      <td>Oct-2016</td>\n",
       "      <td>102685</td>\n",
       "      <td>-665765.0</td>\n",
       "      <td>-0.866374</td>\n",
       "    </tr>\n",
       "    <tr>\n",
       "      <th>82</th>\n",
       "      <td>Nov-2016</td>\n",
       "      <td>795914</td>\n",
       "      <td>693229.0</td>\n",
       "      <td>6.751025</td>\n",
       "    </tr>\n",
       "    <tr>\n",
       "      <th>83</th>\n",
       "      <td>Dec-2016</td>\n",
       "      <td>60988</td>\n",
       "      <td>-734926.0</td>\n",
       "      <td>-0.923374</td>\n",
       "    </tr>\n",
       "    <tr>\n",
       "      <th>84</th>\n",
       "      <td>Jan-2017</td>\n",
       "      <td>138230</td>\n",
       "      <td>77242.0</td>\n",
       "      <td>1.266511</td>\n",
       "    </tr>\n",
       "    <tr>\n",
       "      <th>85</th>\n",
       "      <td>Feb-2017</td>\n",
       "      <td>671099</td>\n",
       "      <td>532869.0</td>\n",
       "      <td>3.854945</td>\n",
       "    </tr>\n",
       "  </tbody>\n",
       "</table>\n",
       "<p>86 rows × 4 columns</p>\n",
       "</div>"
      ],
      "text/plain": [
       "        Date  Profit/Losses    pl_diff  pct_change\n",
       "0   Jan-2010         867884        NaN         NaN\n",
       "1   Feb-2010         984655   116771.0    0.134547\n",
       "2   Mar-2010         322013  -662642.0   -0.672969\n",
       "3   Apr-2010         -69417  -391430.0   -1.215572\n",
       "4   May-2010         310503   379920.0   -5.473011\n",
       "5   Jun-2010         522857   212354.0    0.683903\n",
       "6   Jul-2010        1033096   510239.0    0.975867\n",
       "7   Aug-2010         604885  -428211.0   -0.414493\n",
       "8   Sep-2010        -216386  -821271.0   -1.357731\n",
       "9   Oct-2010         477532   693918.0   -3.206853\n",
       "10  Nov-2010         893810   416278.0    0.871728\n",
       "11  Dec-2010         -80353  -974163.0   -1.089899\n",
       "12  Jan-2011         779806   860159.0  -10.704753\n",
       "13  Feb-2011        -335203 -1115009.0   -1.429854\n",
       "14  Mar-2011         697845  1033048.0   -3.081858\n",
       "15  Apr-2011         793163    95318.0    0.136589\n",
       "16  May-2011         485070  -308093.0   -0.388436\n",
       "17  Jun-2011         584122    99052.0    0.204201\n",
       "18  Jul-2011          62729  -521393.0   -0.892610\n",
       "19  Aug-2011         668179   605450.0    9.651836\n",
       "20  Sep-2011         899906   231727.0    0.346804\n",
       "21  Oct-2011         834719   -65187.0   -0.072438\n",
       "22  Nov-2011         132003  -702716.0   -0.841859\n",
       "23  Dec-2011         309978   177975.0    1.348265\n",
       "24  Jan-2012        -755566 -1065544.0   -3.437483\n",
       "25  Feb-2012        1170593  1926159.0   -2.549293\n",
       "26  Mar-2012         252788  -917805.0   -0.784051\n",
       "27  Apr-2012        1151518   898730.0    3.555272\n",
       "28  May-2012         817256  -334262.0   -0.290279\n",
       "29  Jun-2012         570757  -246499.0   -0.301618\n",
       "..       ...            ...        ...         ...\n",
       "56  Sep-2014        1166643   365942.0    0.457027\n",
       "57  Oct-2014         947333  -219310.0   -0.187984\n",
       "58  Nov-2014         578668  -368665.0   -0.389161\n",
       "59  Dec-2014         988505   409837.0    0.708242\n",
       "60  Jan-2015        1139715   151210.0    0.152968\n",
       "61  Feb-2015        1029471  -110244.0   -0.096729\n",
       "62  Mar-2015         687533  -341938.0   -0.332149\n",
       "63  Apr-2015        -524626 -1212159.0   -1.763056\n",
       "64  May-2015         158620   683246.0   -1.302349\n",
       "65  Jun-2015          87795   -70825.0   -0.446507\n",
       "66  Jul-2015         423389   335594.0    3.822473\n",
       "67  Aug-2015         840723   417334.0    0.985699\n",
       "68  Sep-2015         568529  -272194.0   -0.323762\n",
       "69  Oct-2015         332067  -236462.0   -0.415919\n",
       "70  Nov-2015         989499   657432.0    1.979817\n",
       "71  Dec-2015         778237  -211262.0   -0.213504\n",
       "72  Jan-2016         650000  -128237.0   -0.164779\n",
       "73  Feb-2016       -1100387 -1750387.0   -2.692903\n",
       "74  Mar-2016        -174946   925441.0   -0.841014\n",
       "75  Apr-2016         757143   932089.0   -5.327867\n",
       "76  May-2016         445709  -311434.0   -0.411328\n",
       "77  Jun-2016         712961   267252.0    0.599611\n",
       "78  Jul-2016       -1163797 -1876758.0   -2.632343\n",
       "79  Aug-2016         569899  1733696.0   -1.489689\n",
       "80  Sep-2016         768450   198551.0    0.348397\n",
       "81  Oct-2016         102685  -665765.0   -0.866374\n",
       "82  Nov-2016         795914   693229.0    6.751025\n",
       "83  Dec-2016          60988  -734926.0   -0.923374\n",
       "84  Jan-2017         138230    77242.0    1.266511\n",
       "85  Feb-2017         671099   532869.0    3.854945\n",
       "\n",
       "[86 rows x 4 columns]"
      ]
     },
     "execution_count": 165,
     "metadata": {},
     "output_type": "execute_result"
    }
   ],
   "source": [
    "# To see info about a method do diff() then put cursor after \"()\" then do Shift + Tab\n",
    "budget_df['pl_diff'] = budget_df['Profit/Losses'].diff()\n",
    "budget_df"
   ]
  },
  {
   "cell_type": "code",
   "execution_count": 166,
   "metadata": {},
   "outputs": [
    {
     "data": {
      "text/plain": [
       "-2196167.0"
      ]
     },
     "execution_count": 166,
     "metadata": {},
     "output_type": "execute_result"
    }
   ],
   "source": [
    "budget_df['pl_diff'].min()"
   ]
  },
  {
   "cell_type": "code",
   "execution_count": 167,
   "metadata": {},
   "outputs": [
    {
     "data": {
      "text/plain": [
       "1926159.0"
      ]
     },
     "execution_count": 167,
     "metadata": {},
     "output_type": "execute_result"
    }
   ],
   "source": [
    "budget_df['pl_diff'].max()"
   ]
  },
  {
   "cell_type": "code",
   "execution_count": 168,
   "metadata": {},
   "outputs": [
    {
     "data": {
      "text/plain": [
       "-2315.1176470588234"
      ]
     },
     "execution_count": 168,
     "metadata": {},
     "output_type": "execute_result"
    }
   ],
   "source": [
    "budget_df['pl_diff'].mean()"
   ]
  },
  {
   "cell_type": "code",
   "execution_count": 169,
   "metadata": {},
   "outputs": [
    {
     "data": {
      "text/plain": [
       "-0.28671102859649694"
      ]
     },
     "execution_count": 169,
     "metadata": {},
     "output_type": "execute_result"
    }
   ],
   "source": [
    "budget_df['pct_change'].mean()"
   ]
  },
  {
   "cell_type": "code",
   "execution_count": 170,
   "metadata": {},
   "outputs": [
    {
     "data": {
      "text/html": [
       "<div>\n",
       "<style scoped>\n",
       "    .dataframe tbody tr th:only-of-type {\n",
       "        vertical-align: middle;\n",
       "    }\n",
       "\n",
       "    .dataframe tbody tr th {\n",
       "        vertical-align: top;\n",
       "    }\n",
       "\n",
       "    .dataframe thead th {\n",
       "        text-align: right;\n",
       "    }\n",
       "</style>\n",
       "<table border=\"1\" class=\"dataframe\">\n",
       "  <thead>\n",
       "    <tr style=\"text-align: right;\">\n",
       "      <th></th>\n",
       "      <th>Date</th>\n",
       "      <th>Profit/Losses</th>\n",
       "      <th>pl_diff</th>\n",
       "      <th>pct_change</th>\n",
       "    </tr>\n",
       "  </thead>\n",
       "  <tbody>\n",
       "    <tr>\n",
       "      <th>0</th>\n",
       "      <td>Jan-2010</td>\n",
       "      <td>867884</td>\n",
       "      <td>NaN</td>\n",
       "      <td>NaN</td>\n",
       "    </tr>\n",
       "    <tr>\n",
       "      <th>1</th>\n",
       "      <td>Feb-2010</td>\n",
       "      <td>984655</td>\n",
       "      <td>116771.0</td>\n",
       "      <td>0.134547</td>\n",
       "    </tr>\n",
       "    <tr>\n",
       "      <th>2</th>\n",
       "      <td>Mar-2010</td>\n",
       "      <td>322013</td>\n",
       "      <td>-662642.0</td>\n",
       "      <td>-0.672969</td>\n",
       "    </tr>\n",
       "    <tr>\n",
       "      <th>3</th>\n",
       "      <td>Apr-2010</td>\n",
       "      <td>-69417</td>\n",
       "      <td>-391430.0</td>\n",
       "      <td>-1.215572</td>\n",
       "    </tr>\n",
       "    <tr>\n",
       "      <th>4</th>\n",
       "      <td>May-2010</td>\n",
       "      <td>310503</td>\n",
       "      <td>379920.0</td>\n",
       "      <td>-5.473011</td>\n",
       "    </tr>\n",
       "  </tbody>\n",
       "</table>\n",
       "</div>"
      ],
      "text/plain": [
       "       Date  Profit/Losses   pl_diff  pct_change\n",
       "0  Jan-2010         867884       NaN         NaN\n",
       "1  Feb-2010         984655  116771.0    0.134547\n",
       "2  Mar-2010         322013 -662642.0   -0.672969\n",
       "3  Apr-2010         -69417 -391430.0   -1.215572\n",
       "4  May-2010         310503  379920.0   -5.473011"
      ]
     },
     "execution_count": 170,
     "metadata": {},
     "output_type": "execute_result"
    }
   ],
   "source": [
    "budget_df.head()"
   ]
  },
  {
   "cell_type": "code",
   "execution_count": 171,
   "metadata": {},
   "outputs": [
    {
     "name": "stdout",
     "output_type": "stream",
     "text": [
      "\n",
      "Financial Analysis\n",
      "----------------------------\n",
      "  Total Months: 86\n",
      "  Total: $38382578\n",
      "  Average  Change: $2315.1176470588234\n",
      "  Average Percentage of Change: -0.29\n",
      "  Greatest Increase in Profits: Feb-2012 ($1926159.0)\n",
      "  Greatest Decrease in Profits: Sep-2013 ($-2129858.0)\n"
     ]
    }
   ],
   "source": [
    "#  ```text\n",
    "#  Financial Analysis\n",
    "#  ----------------------------\n",
    "#  Total Months: 86\n",
    "#  Total: $38382578\n",
    "#  Average  Change: $-2315.12\n",
    "#  Greatest Increase in Profits: Feb-2012 ($1926159)\n",
    "#  Greatest Decrease in Profits: Sep-2013 ($-2196167)\n",
    "\n",
    "print(\"\"\"\n",
    "Financial Analysis\n",
    "----------------------------\n",
    "  Total Months: 86\n",
    "  Total: $38382578\n",
    "  Average  Change: $2315.1176470588234\n",
    "  Average Percentage of Change: -0.29\n",
    "  Greatest Increase in Profits: Feb-2012 ($1926159.0)\n",
    "  Greatest Decrease in Profits: Sep-2013 ($-2129858.0)\"\"\")"
   ]
  },
  {
   "cell_type": "code",
   "execution_count": 172,
   "metadata": {},
   "outputs": [
    {
     "name": "stdout",
     "output_type": "stream",
     "text": [
      "-0.28671102859649694\n"
     ]
    }
   ],
   "source": [
    "print(budget_df['pct_change'].mean())\n"
   ]
  },
  {
   "cell_type": "code",
   "execution_count": 173,
   "metadata": {},
   "outputs": [],
   "source": [
    "def metrics():\n",
    "    return \"\"\"\n",
    "Financial Analysis\n",
    "----------------------------\n",
    "  Total Months: 86\n",
    "  Total: $38382578\n",
    "  Average  Change: $2315.1176470588234\n",
    "  Average Percentage of Change: -0.29\n",
    "  Greatest Increase in Profits: Feb-2012 ($1926159.0)\n",
    "  Greatest Decrease in Profits: Sep-2013 ($-2129858.0)\"\"\"\n",
    "\n",
    "output = metrics()\n",
    "file = open(\"metrics.txt\",\"w\")\n",
    "file.write(output)\n",
    "file.close()\n"
   ]
  },
  {
   "cell_type": "code",
   "execution_count": null,
   "metadata": {},
   "outputs": [],
   "source": []
  },
  {
   "cell_type": "code",
   "execution_count": null,
   "metadata": {},
   "outputs": [],
   "source": []
  }
 ],
 "metadata": {
  "kernelspec": {
   "display_name": "Python 3",
   "language": "python",
   "name": "python3"
  },
  "language_info": {
   "codemirror_mode": {
    "name": "ipython",
    "version": 3
   },
   "file_extension": ".py",
   "mimetype": "text/x-python",
   "name": "python",
   "nbconvert_exporter": "python",
   "pygments_lexer": "ipython3",
   "version": "3.7.1"
  }
 },
 "nbformat": 4,
 "nbformat_minor": 2
}
