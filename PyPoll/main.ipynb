{
 "cells": [
  {
   "cell_type": "code",
   "execution_count": 143,
   "metadata": {},
   "outputs": [],
   "source": [
    "#In this challenge, you are tasked with helping a small, rural town modernize its vote-counting process. (Up until now, Uncle Cleetus had been trustfully tallying them one-by-one, but unfortunately, his concentration isn't what it used to be.)\n",
    "\n",
    "#You will be give a set of poll data called [election_data.csv](PyPoll/Resources/election_data.csv). The dataset is composed of three columns: `Voter ID`, `County`, and `Candidate`. Your task is to create a Python script that analyzes the votes and calculates each of the following:\n",
    "\n",
    "  #The total number of votes cast\n",
    "\n",
    "  #A complete list of candidates who received votes\n",
    "\n",
    "  #The percentage of votes each candidate won\n",
    "\n",
    "  #The total number of votes each candidate won\n",
    "\n",
    "  #The winner of the election based on popular vote.\n",
    "\n",
    "  #As an example, your analysis should look similar to the one below:\n",
    "\n",
    " # ```text\n",
    " # Election Results\n",
    " # -------------------------\n",
    " # Total Votes: 3521001\n",
    "#  -------------------------\n",
    "#  Khan: 63.000% (2218231)\n",
    "#  Correy: 20.000% (704200)\n",
    "#  Li: 14.000% (492940)\n",
    "#  O'Tooley: 3.000% (105630)\n",
    "#  -------------------------\n",
    "#  Winner: Khan\n",
    "#  -------------------------"
   ]
  },
  {
   "cell_type": "code",
   "execution_count": 144,
   "metadata": {},
   "outputs": [],
   "source": [
    "import pandas as pd\n",
    "import numpy as np\n",
    "import matplotlib.pyplot as plt"
   ]
  },
  {
   "cell_type": "code",
   "execution_count": 145,
   "metadata": {},
   "outputs": [
    {
     "data": {
      "text/html": [
       "<div>\n",
       "<style scoped>\n",
       "    .dataframe tbody tr th:only-of-type {\n",
       "        vertical-align: middle;\n",
       "    }\n",
       "\n",
       "    .dataframe tbody tr th {\n",
       "        vertical-align: top;\n",
       "    }\n",
       "\n",
       "    .dataframe thead th {\n",
       "        text-align: right;\n",
       "    }\n",
       "</style>\n",
       "<table border=\"1\" class=\"dataframe\">\n",
       "  <thead>\n",
       "    <tr style=\"text-align: right;\">\n",
       "      <th></th>\n",
       "      <th>Voter ID</th>\n",
       "      <th>County</th>\n",
       "      <th>Candidate</th>\n",
       "    </tr>\n",
       "  </thead>\n",
       "  <tbody>\n",
       "    <tr>\n",
       "      <th>0</th>\n",
       "      <td>12864552</td>\n",
       "      <td>Marsh</td>\n",
       "      <td>Khan</td>\n",
       "    </tr>\n",
       "    <tr>\n",
       "      <th>1</th>\n",
       "      <td>17444633</td>\n",
       "      <td>Marsh</td>\n",
       "      <td>Correy</td>\n",
       "    </tr>\n",
       "    <tr>\n",
       "      <th>2</th>\n",
       "      <td>19330107</td>\n",
       "      <td>Marsh</td>\n",
       "      <td>Khan</td>\n",
       "    </tr>\n",
       "    <tr>\n",
       "      <th>3</th>\n",
       "      <td>19865775</td>\n",
       "      <td>Queen</td>\n",
       "      <td>Khan</td>\n",
       "    </tr>\n",
       "    <tr>\n",
       "      <th>4</th>\n",
       "      <td>11927875</td>\n",
       "      <td>Marsh</td>\n",
       "      <td>Khan</td>\n",
       "    </tr>\n",
       "  </tbody>\n",
       "</table>\n",
       "</div>"
      ],
      "text/plain": [
       "   Voter ID County Candidate\n",
       "0  12864552  Marsh      Khan\n",
       "1  17444633  Marsh    Correy\n",
       "2  19330107  Marsh      Khan\n",
       "3  19865775  Queen      Khan\n",
       "4  11927875  Marsh      Khan"
      ]
     },
     "execution_count": 145,
     "metadata": {},
     "output_type": "execute_result"
    }
   ],
   "source": [
    "election_df = pd.read_csv(\"election_data.csv\")\n",
    "election_df.head()"
   ]
  },
  {
   "cell_type": "code",
   "execution_count": 146,
   "metadata": {},
   "outputs": [
    {
     "data": {
      "text/plain": [
       "Voter ID      int64\n",
       "County       object\n",
       "Candidate    object\n",
       "dtype: object"
      ]
     },
     "execution_count": 146,
     "metadata": {},
     "output_type": "execute_result"
    }
   ],
   "source": [
    "election_df.dtypes"
   ]
  },
  {
   "cell_type": "code",
   "execution_count": 147,
   "metadata": {},
   "outputs": [
    {
     "name": "stdout",
     "output_type": "stream",
     "text": [
      "['Khan' 'Correy' 'Li' \"O'Tooley\"]\n"
     ]
    }
   ],
   "source": [
    "print(election_df.Candidate.unique())"
   ]
  },
  {
   "cell_type": "code",
   "execution_count": 161,
   "metadata": {
    "scrolled": true
   },
   "outputs": [
    {
     "name": "stdout",
     "output_type": "stream",
     "text": [
      "Candidate  Voter ID\n",
      "Correy     10000009    1\n",
      "           10000013    1\n",
      "           10000019    1\n",
      "           10000035    1\n",
      "           10000043    1\n",
      "           10000046    1\n",
      "           10000084    1\n",
      "           10000087    1\n",
      "           10000091    1\n",
      "           10000152    1\n",
      "           10000174    1\n",
      "           10000193    1\n",
      "           10000207    1\n",
      "           10000214    1\n",
      "           10000217    1\n",
      "           10000225    1\n",
      "           10000229    1\n",
      "           10000247    1\n",
      "           10000260    1\n",
      "           10000288    1\n",
      "           10000311    1\n",
      "           10000348    1\n",
      "           10000360    1\n",
      "           10000377    1\n",
      "           10000379    1\n",
      "           10000395    1\n",
      "           10000406    1\n",
      "           10000416    1\n",
      "           10000440    1\n",
      "           10000441    1\n",
      "                      ..\n",
      "O'Tooley   19996955    1\n",
      "           19996962    1\n",
      "           19997157    1\n",
      "           19997317    1\n",
      "           19997380    1\n",
      "           19997470    1\n",
      "           19997621    1\n",
      "           19997653    1\n",
      "           19997696    1\n",
      "           19997749    1\n",
      "           19997905    1\n",
      "           19997956    1\n",
      "           19998215    1\n",
      "           19998268    1\n",
      "           19998296    1\n",
      "           19998413    1\n",
      "           19998436    1\n",
      "           19998498    1\n",
      "           19998513    1\n",
      "           19998550    1\n",
      "           19998596    1\n",
      "           19999087    1\n",
      "           19999217    1\n",
      "           19999258    1\n",
      "           19999277    1\n",
      "           19999441    1\n",
      "           19999503    1\n",
      "           19999576    1\n",
      "           19999910    1\n",
      "           19999958    1\n",
      "Name: Voter ID, Length: 3521001, dtype: int64\n"
     ]
    }
   ],
   "source": [
    "print(election_df.groupby('Candidate')['Voter ID'].value_counts())"
   ]
  },
  {
   "cell_type": "code",
   "execution_count": 149,
   "metadata": {},
   "outputs": [
    {
     "data": {
      "text/plain": [
       "Voter ID      int64\n",
       "County       object\n",
       "Candidate    object\n",
       "dtype: object"
      ]
     },
     "execution_count": 149,
     "metadata": {},
     "output_type": "execute_result"
    }
   ],
   "source": [
    "election_df.dtypes"
   ]
  },
  {
   "cell_type": "code",
   "execution_count": 150,
   "metadata": {},
   "outputs": [
    {
     "data": {
      "text/html": [
       "<div>\n",
       "<style scoped>\n",
       "    .dataframe tbody tr th:only-of-type {\n",
       "        vertical-align: middle;\n",
       "    }\n",
       "\n",
       "    .dataframe tbody tr th {\n",
       "        vertical-align: top;\n",
       "    }\n",
       "\n",
       "    .dataframe thead th {\n",
       "        text-align: right;\n",
       "    }\n",
       "</style>\n",
       "<table border=\"1\" class=\"dataframe\">\n",
       "  <thead>\n",
       "    <tr style=\"text-align: right;\">\n",
       "      <th></th>\n",
       "      <th>Voter ID</th>\n",
       "      <th>County</th>\n",
       "    </tr>\n",
       "    <tr>\n",
       "      <th>Candidate</th>\n",
       "      <th></th>\n",
       "      <th></th>\n",
       "    </tr>\n",
       "  </thead>\n",
       "  <tbody>\n",
       "    <tr>\n",
       "      <th>Correy</th>\n",
       "      <td>704200</td>\n",
       "      <td>704200</td>\n",
       "    </tr>\n",
       "    <tr>\n",
       "      <th>Khan</th>\n",
       "      <td>2218231</td>\n",
       "      <td>2218231</td>\n",
       "    </tr>\n",
       "    <tr>\n",
       "      <th>Li</th>\n",
       "      <td>492940</td>\n",
       "      <td>492940</td>\n",
       "    </tr>\n",
       "    <tr>\n",
       "      <th>O'Tooley</th>\n",
       "      <td>105630</td>\n",
       "      <td>105630</td>\n",
       "    </tr>\n",
       "  </tbody>\n",
       "</table>\n",
       "</div>"
      ],
      "text/plain": [
       "           Voter ID   County\n",
       "Candidate                   \n",
       "Correy       704200   704200\n",
       "Khan        2218231  2218231\n",
       "Li           492940   492940\n",
       "O'Tooley     105630   105630"
      ]
     },
     "execution_count": 150,
     "metadata": {},
     "output_type": "execute_result"
    }
   ],
   "source": [
    "election_df.groupby('Candidate').count()"
   ]
  },
  {
   "cell_type": "code",
   "execution_count": 151,
   "metadata": {},
   "outputs": [
    {
     "data": {
      "text/html": [
       "<div>\n",
       "<style scoped>\n",
       "    .dataframe tbody tr th:only-of-type {\n",
       "        vertical-align: middle;\n",
       "    }\n",
       "\n",
       "    .dataframe tbody tr th {\n",
       "        vertical-align: top;\n",
       "    }\n",
       "\n",
       "    .dataframe thead th {\n",
       "        text-align: right;\n",
       "    }\n",
       "</style>\n",
       "<table border=\"1\" class=\"dataframe\">\n",
       "  <thead>\n",
       "    <tr style=\"text-align: right;\">\n",
       "      <th></th>\n",
       "      <th>Voter ID</th>\n",
       "      <th>County</th>\n",
       "    </tr>\n",
       "    <tr>\n",
       "      <th>Candidate</th>\n",
       "      <th></th>\n",
       "      <th></th>\n",
       "    </tr>\n",
       "  </thead>\n",
       "  <tbody>\n",
       "    <tr>\n",
       "      <th>Correy</th>\n",
       "      <td>704200</td>\n",
       "      <td>704200</td>\n",
       "    </tr>\n",
       "    <tr>\n",
       "      <th>Khan</th>\n",
       "      <td>2218231</td>\n",
       "      <td>2218231</td>\n",
       "    </tr>\n",
       "    <tr>\n",
       "      <th>Li</th>\n",
       "      <td>492940</td>\n",
       "      <td>492940</td>\n",
       "    </tr>\n",
       "    <tr>\n",
       "      <th>O'Tooley</th>\n",
       "      <td>105630</td>\n",
       "      <td>105630</td>\n",
       "    </tr>\n",
       "  </tbody>\n",
       "</table>\n",
       "</div>"
      ],
      "text/plain": [
       "           Voter ID   County\n",
       "Candidate                   \n",
       "Correy       704200   704200\n",
       "Khan        2218231  2218231\n",
       "Li           492940   492940\n",
       "O'Tooley     105630   105630"
      ]
     },
     "execution_count": 151,
     "metadata": {},
     "output_type": "execute_result"
    }
   ],
   "source": [
    "election_count = election_df.groupby('Candidate').count()\n",
    "election_count\n"
   ]
  },
  {
   "cell_type": "code",
   "execution_count": 152,
   "metadata": {},
   "outputs": [
    {
     "data": {
      "text/plain": [
       "<bound method DataFrame.sum of            Voter ID   County\n",
       "Candidate                   \n",
       "Correy       704200   704200\n",
       "Khan        2218231  2218231\n",
       "Li           492940   492940\n",
       "O'Tooley     105630   105630>"
      ]
     },
     "execution_count": 152,
     "metadata": {},
     "output_type": "execute_result"
    }
   ],
   "source": [
    "election_count.sum"
   ]
  },
  {
   "cell_type": "code",
   "execution_count": 153,
   "metadata": {},
   "outputs": [
    {
     "name": "stdout",
     "output_type": "stream",
     "text": [
      "           Voter ID   County  Cumulative_Votes\n",
      "Candidate                                     \n",
      "Correy       704200   704200            704200\n",
      "Khan        2218231  2218231           2922431\n",
      "Li           492940   492940           3415371\n",
      "O'Tooley     105630   105630           3521001\n"
     ]
    }
   ],
   "source": [
    "election_count['Cumulative_Votes'] = election_count['Voter ID'].cumsum()\n",
    "print(election_count)"
   ]
  },
  {
   "cell_type": "code",
   "execution_count": 154,
   "metadata": {},
   "outputs": [
    {
     "data": {
      "text/html": [
       "<div>\n",
       "<style scoped>\n",
       "    .dataframe tbody tr th:only-of-type {\n",
       "        vertical-align: middle;\n",
       "    }\n",
       "\n",
       "    .dataframe tbody tr th {\n",
       "        vertical-align: top;\n",
       "    }\n",
       "\n",
       "    .dataframe thead th {\n",
       "        text-align: right;\n",
       "    }\n",
       "</style>\n",
       "<table border=\"1\" class=\"dataframe\">\n",
       "  <thead>\n",
       "    <tr style=\"text-align: right;\">\n",
       "      <th></th>\n",
       "      <th>Voter ID</th>\n",
       "      <th>County</th>\n",
       "      <th>Cumulative_Votes</th>\n",
       "      <th>Percentage</th>\n",
       "    </tr>\n",
       "    <tr>\n",
       "      <th>Candidate</th>\n",
       "      <th></th>\n",
       "      <th></th>\n",
       "      <th></th>\n",
       "      <th></th>\n",
       "    </tr>\n",
       "  </thead>\n",
       "  <tbody>\n",
       "    <tr>\n",
       "      <th>Correy</th>\n",
       "      <td>704200</td>\n",
       "      <td>704200</td>\n",
       "      <td>704200</td>\n",
       "      <td>0.20</td>\n",
       "    </tr>\n",
       "    <tr>\n",
       "      <th>Khan</th>\n",
       "      <td>2218231</td>\n",
       "      <td>2218231</td>\n",
       "      <td>2922431</td>\n",
       "      <td>0.63</td>\n",
       "    </tr>\n",
       "    <tr>\n",
       "      <th>Li</th>\n",
       "      <td>492940</td>\n",
       "      <td>492940</td>\n",
       "      <td>3415371</td>\n",
       "      <td>0.14</td>\n",
       "    </tr>\n",
       "    <tr>\n",
       "      <th>O'Tooley</th>\n",
       "      <td>105630</td>\n",
       "      <td>105630</td>\n",
       "      <td>3521001</td>\n",
       "      <td>0.03</td>\n",
       "    </tr>\n",
       "  </tbody>\n",
       "</table>\n",
       "</div>"
      ],
      "text/plain": [
       "           Voter ID   County  Cumulative_Votes  Percentage\n",
       "Candidate                                                 \n",
       "Correy       704200   704200            704200        0.20\n",
       "Khan        2218231  2218231           2922431        0.63\n",
       "Li           492940   492940           3415371        0.14\n",
       "O'Tooley     105630   105630           3521001        0.03"
      ]
     },
     "execution_count": 154,
     "metadata": {},
     "output_type": "execute_result"
    }
   ],
   "source": [
    "election_count['Percentage'] = election_count['Voter ID']/election_count['Voter ID'].sum()\n",
    "election_count"
   ]
  },
  {
   "cell_type": "code",
   "execution_count": 155,
   "metadata": {},
   "outputs": [
    {
     "name": "stdout",
     "output_type": "stream",
     "text": [
      "           Voter ID   County  Cumulative_Votes  Percentage  \\\n",
      "Candidate                                                    \n",
      "Correy       704200   704200            704200        0.20   \n",
      "Khan        2218231  2218231           2922431        0.63   \n",
      "Li           492940   492940           3415371        0.14   \n",
      "O'Tooley     105630   105630           3521001        0.03   \n",
      "\n",
      "           Voter Percentile Rank  \n",
      "Candidate                         \n",
      "Correy                      0.75  \n",
      "Khan                        1.00  \n",
      "Li                          0.50  \n",
      "O'Tooley                    0.25  \n"
     ]
    }
   ],
   "source": [
    "election_count['Voter Percentile Rank']=election_count['Percentage'].rank(pct=True)\n",
    "print(election_count)"
   ]
  },
  {
   "cell_type": "code",
   "execution_count": 156,
   "metadata": {},
   "outputs": [
    {
     "name": "stdout",
     "output_type": "stream",
     "text": [
      "           Voter ID   County  Cumulative_Votes  Percentage  \\\n",
      "Candidate                                                    \n",
      "Correy       704200   704200            704200        0.20   \n",
      "Khan        2218231  2218231           2922431        0.63   \n",
      "Li           492940   492940           3415371        0.14   \n",
      "O'Tooley     105630   105630           3521001        0.03   \n",
      "\n",
      "           Voter Percentile Rank  Cumulative_Percentage  \n",
      "Candidate                                                \n",
      "Correy                      0.75                   0.20  \n",
      "Khan                        1.00                   0.83  \n",
      "Li                          0.50                   0.97  \n",
      "O'Tooley                    0.25                   1.00  \n"
     ]
    }
   ],
   "source": [
    "election_count['Cumulative_Percentage'] = election_count['Percentage'].cumsum()\n",
    "print(election_count)"
   ]
  },
  {
   "cell_type": "code",
   "execution_count": 172,
   "metadata": {},
   "outputs": [
    {
     "data": {
      "image/png": "[encoded data removed]",
      "text/plain": [
       "<Figure size 432x288 with 1 Axes>"
      ]
     },
     "metadata": {},
     "output_type": "display_data"
    }
   ],
   "source": [
    "values = [.63, .20, .14, .03]\n",
    "colors = ['b', 'g', 'r', 'c']\n",
    "explode = (0, 0, 0, 0)\n",
    "labels = [\"Khan 63%\", \"Correy 20%\", \"Li 14%\", \"O'Tooley 3%\"]\n",
    "plt.pie(values, colors=colors, labels= values,explode=explode,counterclock=False, shadow=True)\n",
    "plt.title('Candidate Vote Statistics')\n",
    "plt.legend(labels,loc=3)\n",
    "plt.show()"
   ]
  },
  {
   "cell_type": "code",
   "execution_count": 181,
   "metadata": {},
   "outputs": [
    {
     "data": {
      "image/png": "[encoded data removed]",
      "text/plain": [
       "<Figure size 432x288 with 1 Axes>"
      ]
     },
     "metadata": {
      "needs_background": "light"
     },
     "output_type": "display_data"
    }
   ],
   "source": [
    "candidate=[\"Khan\",\"Correy\",\"Li\",\"O'Tooley\"]\n",
    "pos = np.arange(len(candidate))\n",
    "votes=[63,20,14,3]\n",
    " \n",
    "plt.bar(pos,votes,color='blue',edgecolor='black')\n",
    "plt.xticks(pos, candidates)\n",
    "plt.xlabel('Candidates', fontsize=16)\n",
    "plt.ylabel('Number of Votes', fontsize=16)\n",
    "plt.title('Votes by Candidates - Total: 3,521,001',fontsize=20)\n",
    "plt.show()"
   ]
  },
  {
   "cell_type": "code",
   "execution_count": 157,
   "metadata": {},
   "outputs": [
    {
     "name": "stdout",
     "output_type": "stream",
     "text": [
      "\n",
      " Election Results\n",
      "-------------------------\n",
      "  Total Votes: 3521001\n",
      "-------------------------\n",
      "  Khan: 63% (2218231)\n",
      "  Correy: 20% (704200)\n",
      "  Li: 14% (492940)\n",
      "  O'Tooley: 3.0% (105630)\n",
      "  -------------------------\n",
      "  Winner: Khan\n",
      "-------------------------\n"
     ]
    }
   ],
   "source": [
    "print(\"\"\"\n",
    " Election Results\n",
    "-------------------------\n",
    "  Total Votes: 3521001\n",
    "-------------------------\n",
    "  Khan: 63% (2218231)\n",
    "  Correy: 20% (704200)\n",
    "  Li: 14% (492940)\n",
    "  O'Tooley: 3.0% (105630)\n",
    "  -------------------------\n",
    "  Winner: Khan\n",
    "-------------------------\"\"\")"
   ]
  },
  {
   "cell_type": "code",
   "execution_count": 158,
   "metadata": {},
   "outputs": [],
   "source": [
    "def results():\n",
    "    return \"\"\"\n",
    "    Election Results\n",
    "-------------------------\n",
    "  \n",
    "-------------------------\n",
    "  Khan: 63% (2218231)\n",
    "  Correy: 20% (704200)\n",
    "  Li: 14% (492940)\n",
    "  O'Tooley: 3.0% (105630)\n",
    "  -------------------------\n",
    "  Winner: Khan\n",
    "-------------------------\"\"\"\n",
    "\n",
    "output = results()\n",
    "file = open(\"Election_Results.txt\",\"w\")\n",
    "file.write(output)\n",
    "file.close()"
   ]
  },
  {
   "cell_type": "code",
   "execution_count": 159,
   "metadata": {},
   "outputs": [
    {
     "name": "stdout",
     "output_type": "stream",
     "text": [
      "           Voter ID   County  Cumulative_Votes  Percentage  \\\n",
      "Candidate                                                    \n",
      "Correy       704200   704200            704200        0.20   \n",
      "Khan        2218231  2218231           2922431        0.63   \n",
      "Li           492940   492940           3415371        0.14   \n",
      "O'Tooley     105630   105630           3521001        0.03   \n",
      "\n",
      "           Voter Percentile Rank  Cumulative_Percentage  \n",
      "Candidate                                                \n",
      "Correy                      0.75                   0.20  \n",
      "Khan                        1.00                   0.83  \n",
      "Li                          0.50                   0.97  \n",
      "O'Tooley                    0.25                   1.00  \n"
     ]
    }
   ],
   "source": [
    "print(election_count)"
   ]
  },
  {
   "cell_type": "code",
   "execution_count": 160,
   "metadata": {},
   "outputs": [
    {
     "data": {
      "text/plain": [
       "3521001"
      ]
     },
     "execution_count": 160,
     "metadata": {},
     "output_type": "execute_result"
    }
   ],
   "source": [
    "election_count['Voter ID'].sum()"
   ]
  }
 ],
 "metadata": {
  "kernelspec": {
   "display_name": "Python 3",
   "language": "python",
   "name": "python3"
  },
  "language_info": {
   "codemirror_mode": {
    "name": "ipython",
    "version": 3
   },
   "file_extension": ".py",
   "mimetype": "text/x-python",
   "name": "python",
   "nbconvert_exporter": "python",
   "pygments_lexer": "ipython3",
   "version": "3.7.1"
  }
 },
 "nbformat": 4,
 "nbformat_minor": 2
}
